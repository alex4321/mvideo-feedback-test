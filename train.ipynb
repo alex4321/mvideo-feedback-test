{
 "cells": [
  {
   "cell_type": "markdown",
   "metadata": {},
   "source": [
    "# Подготовка\n",
    "\n",
    "Подготовим наши данные"
   ]
  },
  {
   "cell_type": "code",
   "execution_count": 1,
   "metadata": {
    "collapsed": true
   },
   "outputs": [],
   "source": [
    "%matplotlib inline\n",
    "import pandas as pd\n",
    "import numpy as np\n",
    "import matplotlib.pyplot as plt"
   ]
  },
  {
   "cell_type": "code",
   "execution_count": 2,
   "metadata": {},
   "outputs": [
    {
     "data": {
      "text/html": [
       "<div>\n",
       "<style>\n",
       "    .dataframe thead tr:only-child th {\n",
       "        text-align: right;\n",
       "    }\n",
       "\n",
       "    .dataframe thead th {\n",
       "        text-align: left;\n",
       "    }\n",
       "\n",
       "    .dataframe tbody tr th {\n",
       "        vertical-align: top;\n",
       "    }\n",
       "</style>\n",
       "<table border=\"1\" class=\"dataframe\">\n",
       "  <thead>\n",
       "    <tr style=\"text-align: right;\">\n",
       "      <th></th>\n",
       "      <th>sku</th>\n",
       "      <th>categoryLevel1Id</th>\n",
       "      <th>categoryLevel2Id</th>\n",
       "      <th>brandId</th>\n",
       "      <th>property</th>\n",
       "      <th>userName</th>\n",
       "      <th>reting</th>\n",
       "      <th>date</th>\n",
       "      <th>comment</th>\n",
       "      <th>commentNegative</th>\n",
       "      <th>commentPositive</th>\n",
       "    </tr>\n",
       "  </thead>\n",
       "  <tbody>\n",
       "    <tr>\n",
       "      <th>count</th>\n",
       "      <td>1.558700e+04</td>\n",
       "      <td>15587.000000</td>\n",
       "      <td>1.558700e+04</td>\n",
       "      <td>15587.000000</td>\n",
       "      <td>15587</td>\n",
       "      <td>15587</td>\n",
       "      <td>15587.000000</td>\n",
       "      <td>15587</td>\n",
       "      <td>15587</td>\n",
       "      <td>924</td>\n",
       "      <td>923</td>\n",
       "    </tr>\n",
       "    <tr>\n",
       "      <th>unique</th>\n",
       "      <td>NaN</td>\n",
       "      <td>NaN</td>\n",
       "      <td>NaN</td>\n",
       "      <td>NaN</td>\n",
       "      <td>2502</td>\n",
       "      <td>3232</td>\n",
       "      <td>NaN</td>\n",
       "      <td>2310</td>\n",
       "      <td>15513</td>\n",
       "      <td>694</td>\n",
       "      <td>922</td>\n",
       "    </tr>\n",
       "    <tr>\n",
       "      <th>top</th>\n",
       "      <td>NaN</td>\n",
       "      <td>NaN</td>\n",
       "      <td>NaN</td>\n",
       "      <td>NaN</td>\n",
       "      <td>[{9079: '3495b78aaea0003e1e551bcf4da18861'}, {...</td>\n",
       "      <td>3d801da09e7d82668e226799d9db91dc</td>\n",
       "      <td>NaN</td>\n",
       "      <td>2011-06-03</td>\n",
       "      <td>нет</td>\n",
       "      <td>нет</td>\n",
       "      <td>Не рекомендую</td>\n",
       "    </tr>\n",
       "    <tr>\n",
       "      <th>freq</th>\n",
       "      <td>NaN</td>\n",
       "      <td>NaN</td>\n",
       "      <td>NaN</td>\n",
       "      <td>NaN</td>\n",
       "      <td>126</td>\n",
       "      <td>630</td>\n",
       "      <td>NaN</td>\n",
       "      <td>94</td>\n",
       "      <td>17</td>\n",
       "      <td>82</td>\n",
       "      <td>2</td>\n",
       "    </tr>\n",
       "    <tr>\n",
       "      <th>mean</th>\n",
       "      <td>2.470460e+07</td>\n",
       "      <td>341.629435</td>\n",
       "      <td>3.427723e+06</td>\n",
       "      <td>444.753577</td>\n",
       "      <td>NaN</td>\n",
       "      <td>NaN</td>\n",
       "      <td>4.118496</td>\n",
       "      <td>NaN</td>\n",
       "      <td>NaN</td>\n",
       "      <td>NaN</td>\n",
       "      <td>NaN</td>\n",
       "    </tr>\n",
       "    <tr>\n",
       "      <th>std</th>\n",
       "      <td>1.028728e+07</td>\n",
       "      <td>119.478142</td>\n",
       "      <td>1.186588e+06</td>\n",
       "      <td>494.612637</td>\n",
       "      <td>NaN</td>\n",
       "      <td>NaN</td>\n",
       "      <td>1.316966</td>\n",
       "      <td>NaN</td>\n",
       "      <td>NaN</td>\n",
       "      <td>NaN</td>\n",
       "      <td>NaN</td>\n",
       "    </tr>\n",
       "    <tr>\n",
       "      <th>min</th>\n",
       "      <td>1.000027e+06</td>\n",
       "      <td>101.000000</td>\n",
       "      <td>1.010102e+06</td>\n",
       "      <td>1.000000</td>\n",
       "      <td>NaN</td>\n",
       "      <td>NaN</td>\n",
       "      <td>1.000000</td>\n",
       "      <td>NaN</td>\n",
       "      <td>NaN</td>\n",
       "      <td>NaN</td>\n",
       "      <td>NaN</td>\n",
       "    </tr>\n",
       "    <tr>\n",
       "      <th>25%</th>\n",
       "      <td>2.000459e+07</td>\n",
       "      <td>207.000000</td>\n",
       "      <td>2.070202e+06</td>\n",
       "      <td>48.000000</td>\n",
       "      <td>NaN</td>\n",
       "      <td>NaN</td>\n",
       "      <td>4.000000</td>\n",
       "      <td>NaN</td>\n",
       "      <td>NaN</td>\n",
       "      <td>NaN</td>\n",
       "      <td>NaN</td>\n",
       "    </tr>\n",
       "    <tr>\n",
       "      <th>50%</th>\n",
       "      <td>2.002190e+07</td>\n",
       "      <td>405.000000</td>\n",
       "      <td>4.050206e+06</td>\n",
       "      <td>93.000000</td>\n",
       "      <td>NaN</td>\n",
       "      <td>NaN</td>\n",
       "      <td>5.000000</td>\n",
       "      <td>NaN</td>\n",
       "      <td>NaN</td>\n",
       "      <td>NaN</td>\n",
       "      <td>NaN</td>\n",
       "    </tr>\n",
       "    <tr>\n",
       "      <th>75%</th>\n",
       "      <td>3.001108e+07</td>\n",
       "      <td>411.000000</td>\n",
       "      <td>4.110102e+06</td>\n",
       "      <td>787.000000</td>\n",
       "      <td>NaN</td>\n",
       "      <td>NaN</td>\n",
       "      <td>5.000000</td>\n",
       "      <td>NaN</td>\n",
       "      <td>NaN</td>\n",
       "      <td>NaN</td>\n",
       "      <td>NaN</td>\n",
       "    </tr>\n",
       "    <tr>\n",
       "      <th>max</th>\n",
       "      <td>5.004011e+07</td>\n",
       "      <td>701.000000</td>\n",
       "      <td>7.010101e+06</td>\n",
       "      <td>2159.000000</td>\n",
       "      <td>NaN</td>\n",
       "      <td>NaN</td>\n",
       "      <td>5.000000</td>\n",
       "      <td>NaN</td>\n",
       "      <td>NaN</td>\n",
       "      <td>NaN</td>\n",
       "      <td>NaN</td>\n",
       "    </tr>\n",
       "  </tbody>\n",
       "</table>\n",
       "</div>"
      ],
      "text/plain": [
       "                 sku  categoryLevel1Id  categoryLevel2Id       brandId  \\\n",
       "count   1.558700e+04      15587.000000      1.558700e+04  15587.000000   \n",
       "unique           NaN               NaN               NaN           NaN   \n",
       "top              NaN               NaN               NaN           NaN   \n",
       "freq             NaN               NaN               NaN           NaN   \n",
       "mean    2.470460e+07        341.629435      3.427723e+06    444.753577   \n",
       "std     1.028728e+07        119.478142      1.186588e+06    494.612637   \n",
       "min     1.000027e+06        101.000000      1.010102e+06      1.000000   \n",
       "25%     2.000459e+07        207.000000      2.070202e+06     48.000000   \n",
       "50%     2.002190e+07        405.000000      4.050206e+06     93.000000   \n",
       "75%     3.001108e+07        411.000000      4.110102e+06    787.000000   \n",
       "max     5.004011e+07        701.000000      7.010101e+06   2159.000000   \n",
       "\n",
       "                                                 property  \\\n",
       "count                                               15587   \n",
       "unique                                               2502   \n",
       "top     [{9079: '3495b78aaea0003e1e551bcf4da18861'}, {...   \n",
       "freq                                                  126   \n",
       "mean                                                  NaN   \n",
       "std                                                   NaN   \n",
       "min                                                   NaN   \n",
       "25%                                                   NaN   \n",
       "50%                                                   NaN   \n",
       "75%                                                   NaN   \n",
       "max                                                   NaN   \n",
       "\n",
       "                                userName        reting        date comment  \\\n",
       "count                              15587  15587.000000       15587   15587   \n",
       "unique                              3232           NaN        2310   15513   \n",
       "top     3d801da09e7d82668e226799d9db91dc           NaN  2011-06-03     нет   \n",
       "freq                                 630           NaN          94      17   \n",
       "mean                                 NaN      4.118496         NaN     NaN   \n",
       "std                                  NaN      1.316966         NaN     NaN   \n",
       "min                                  NaN      1.000000         NaN     NaN   \n",
       "25%                                  NaN      4.000000         NaN     NaN   \n",
       "50%                                  NaN      5.000000         NaN     NaN   \n",
       "75%                                  NaN      5.000000         NaN     NaN   \n",
       "max                                  NaN      5.000000         NaN     NaN   \n",
       "\n",
       "       commentNegative commentPositive  \n",
       "count              924             923  \n",
       "unique             694             922  \n",
       "top                нет   Не рекомендую  \n",
       "freq                82               2  \n",
       "mean               NaN             NaN  \n",
       "std                NaN             NaN  \n",
       "min                NaN             NaN  \n",
       "25%                NaN             NaN  \n",
       "50%                NaN             NaN  \n",
       "75%                NaN             NaN  \n",
       "max                NaN             NaN  "
      ]
     },
     "execution_count": 2,
     "metadata": {},
     "output_type": "execute_result"
    }
   ],
   "source": [
    "dataset = pd.read_csv(\"X_train.csv\")\n",
    "dataset.describe(include=\"all\")"
   ]
  },
  {
   "cell_type": "markdown",
   "metadata": {},
   "source": [
    "Воспользуемся полем comment, т.к. оно содержит текст отзыва и всегда заполнено. Тем не менее - заполним commentPositive/commentNegative."
   ]
  },
  {
   "cell_type": "code",
   "execution_count": 3,
   "metadata": {
    "collapsed": true
   },
   "outputs": [],
   "source": [
    "dataset[\"commentPositive\"] = dataset[\"commentPositive\"].fillna(\"NA\")\n",
    "dataset[\"commentNegative\"] = dataset[\"commentNegative\"].fillna(\"NA\")\n",
    "dataset[\"rating\"] = dataset[\"reting\"].apply(round)"
   ]
  },
  {
   "cell_type": "markdown",
   "metadata": {},
   "source": [
    "Разобьём отзывы на train / test (\n",
    "    train будет использован при обучении изранной модели,\n",
    "    а его подмножества будут использованы при кроссвалидации\n",
    ")."
   ]
  },
  {
   "cell_type": "code",
   "execution_count": 4,
   "metadata": {
    "collapsed": true
   },
   "outputs": [],
   "source": [
    "from sklearn.model_selection import train_test_split\n",
    "\n",
    "SEED = 42\n",
    "\n",
    "comment = dataset[\"comment\"]\n",
    "rating = dataset[\"rating\"]\n",
    "\n",
    "comment_train, comment_test, rating_train, rating_test = train_test_split(np.array(dataset[\"comment\"]),\n",
    "                                                                          np.array(dataset[\"rating\"]),\n",
    "                                                                          random_state=SEED)"
   ]
  },
  {
   "cell_type": "markdown",
   "metadata": {},
   "source": [
    "# Кроссвалидация\n",
    "\n",
    "Определим функцию кроссвалидации по метрике MSE в 2 параллельных процесса"
   ]
  },
  {
   "cell_type": "code",
   "execution_count": 16,
   "metadata": {
    "collapsed": true
   },
   "outputs": [],
   "source": [
    "from sklearn.model_selection import cross_val_score\n",
    "\n",
    "def cv(model, X, y):\n",
    "    return -cross_val_score(model, X, y, scoring=\"neg_mean_squared_error\", n_jobs=2)"
   ]
  },
  {
   "cell_type": "markdown",
   "metadata": {},
   "source": [
    "# Константный классификатор"
   ]
  },
  {
   "cell_type": "code",
   "execution_count": 17,
   "metadata": {
    "collapsed": true
   },
   "outputs": [],
   "source": [
    "from sklearn.dummy import DummyClassifier"
   ]
  },
  {
   "cell_type": "code",
   "execution_count": 18,
   "metadata": {},
   "outputs": [
    {
     "name": "stdout",
     "output_type": "stream",
     "text": [
      "Best constant :  5\n",
      "Best constant scores :  [ 1.74095922  1.73973306  1.73915276]\n"
     ]
    }
   ],
   "source": [
    "best_i = None\n",
    "best_score = np.array([100])\n",
    "for i in [1,2,3,4,5]:\n",
    "    scores = cv(DummyClassifier(\"constant\", constant=i), rating_train.reshape(-1, 1), rating_train)\n",
    "    if scores.mean() < best_score.mean():\n",
    "        best_i = i\n",
    "        best_score = scores\n",
    "print(\"Best constant : \", i)\n",
    "print(\"Best constant scores : \", best_score)"
   ]
  },
  {
   "cell_type": "markdown",
   "metadata": {},
   "source": [
    "# Линейные модели поверх CountVectorizer-а\n",
    "\n",
    "Кроссвалидируем ряд моделей, в которых :\n",
    "- на первой стадии - подсчитывается число вхождений различных строк\n",
    "- на второй - рассчитывается значение линейной регрессии от преобразованных строк\n",
    "\n",
    "При этом к регрессиям будут примены регуляризаторы:\n",
    "- к первой - никакого (LinearRegression)\n",
    "- к второй - L1 (Lasso)\n",
    "- к третьей - L2 (Ridge)"
   ]
  },
  {
   "cell_type": "code",
   "execution_count": 19,
   "metadata": {
    "collapsed": true
   },
   "outputs": [],
   "source": [
    "from sklearn.pipeline import Pipeline\n",
    "from sklearn.feature_extraction.text import CountVectorizer\n",
    "from sklearn.linear_model import LinearRegression, Lasso, Ridge"
   ]
  },
  {
   "cell_type": "code",
   "execution_count": 20,
   "metadata": {},
   "outputs": [
    {
     "data": {
      "text/plain": [
       "array([ 44.71740315,  31.07388559,  61.04431389])"
      ]
     },
     "execution_count": 20,
     "metadata": {},
     "output_type": "execute_result"
    }
   ],
   "source": [
    "cv(\n",
    "    Pipeline([\n",
    "        (\"vectorizer\", CountVectorizer()),\n",
    "        (\"regression\", LinearRegression()),\n",
    "    ]),\n",
    "    comment_train,\n",
    "    rating_train\n",
    ")"
   ]
  },
  {
   "cell_type": "code",
   "execution_count": 21,
   "metadata": {},
   "outputs": [
    {
     "data": {
      "text/plain": [
       "array([ 1.74792872,  1.7364251 ,  1.69093337])"
      ]
     },
     "execution_count": 21,
     "metadata": {},
     "output_type": "execute_result"
    }
   ],
   "source": [
    "cv(\n",
    "    Pipeline([\n",
    "        (\"vectorizer\", CountVectorizer()),\n",
    "        (\"regression\", Lasso()),\n",
    "    ]),\n",
    "    comment_train,\n",
    "    rating_train\n",
    ")"
   ]
  },
  {
   "cell_type": "code",
   "execution_count": 22,
   "metadata": {},
   "outputs": [
    {
     "data": {
      "text/plain": [
       "array([ 1.38767043,  1.32933191,  1.28013101])"
      ]
     },
     "execution_count": 22,
     "metadata": {},
     "output_type": "execute_result"
    }
   ],
   "source": [
    "cv(\n",
    "    Pipeline([\n",
    "        (\"vectorizer\", CountVectorizer()),\n",
    "        (\"regression\", Ridge()),\n",
    "    ]),\n",
    "    comment_train,\n",
    "    rating_train\n",
    ")"
   ]
  },
  {
   "cell_type": "markdown",
   "metadata": {},
   "source": [
    "Видим, что лучший результат возвращает Ridge (L2), линейная же модель переобучается."
   ]
  },
  {
   "cell_type": "markdown",
   "metadata": {},
   "source": [
    "# Lasso/Ridge поверх Tf-Idf\n",
    "\n",
    "Кроссвалидируем регрессии с L1/L2 регуляризаторами, применяемые к результату tf-idf преобразования"
   ]
  },
  {
   "cell_type": "code",
   "execution_count": 23,
   "metadata": {
    "collapsed": true
   },
   "outputs": [],
   "source": [
    "from sklearn.feature_extraction.text import TfidfVectorizer"
   ]
  },
  {
   "cell_type": "code",
   "execution_count": 24,
   "metadata": {},
   "outputs": [
    {
     "data": {
      "text/plain": [
       "array([ 1.74792872,  1.7364251 ,  1.69093337])"
      ]
     },
     "execution_count": 24,
     "metadata": {},
     "output_type": "execute_result"
    }
   ],
   "source": [
    "cv(\n",
    "    Pipeline([\n",
    "        (\"vectorizer\", TfidfVectorizer()),\n",
    "        (\"regression\", Lasso()),\n",
    "    ]),\n",
    "    comment_train,\n",
    "    rating_train\n",
    ")"
   ]
  },
  {
   "cell_type": "code",
   "execution_count": 25,
   "metadata": {},
   "outputs": [
    {
     "data": {
      "text/plain": [
       "array([ 0.9803364 ,  0.98791351,  0.94199887])"
      ]
     },
     "execution_count": 25,
     "metadata": {},
     "output_type": "execute_result"
    }
   ],
   "source": [
    "cv(\n",
    "    Pipeline([\n",
    "        (\"vectorizer\", TfidfVectorizer()),\n",
    "        (\"regression\", Ridge()),\n",
    "    ]),\n",
    "    comment_train,\n",
    "    rating_train\n",
    ")"
   ]
  },
  {
   "cell_type": "markdown",
   "metadata": {},
   "source": [
    "Видим, что результат Ridge ощутимо лучше, чем Lasso"
   ]
  },
  {
   "cell_type": "markdown",
   "metadata": {},
   "source": [
    "# Стемминг\n",
    "\n",
    "Попробуем снизить размерность пространства признаков, применив перед tf-idf стемминг (\n",
    "    который оставит от слова только \"основную\" часть - таким образом, одному слову будет соответствовать более 1 признака)"
   ]
  },
  {
   "cell_type": "code",
   "execution_count": 27,
   "metadata": {
    "collapsed": true
   },
   "outputs": [],
   "source": [
    "from stem_transformer import stem_transformer"
   ]
  },
  {
   "cell_type": "code",
   "execution_count": 28,
   "metadata": {},
   "outputs": [
    {
     "data": {
      "text/plain": [
       "array([ 0.96504935,  0.96954719,  0.94524739])"
      ]
     },
     "execution_count": 28,
     "metadata": {},
     "output_type": "execute_result"
    }
   ],
   "source": [
    "cv(\n",
    "    Pipeline([\n",
    "        (\"stem\", stem_transformer()),\n",
    "        (\"vectorizer\", TfidfVectorizer()),\n",
    "        (\"regression\", Ridge()),\n",
    "    ]),\n",
    "    comment_train,\n",
    "    rating_train\n",
    ")"
   ]
  },
  {
   "cell_type": "markdown",
   "metadata": {},
   "source": [
    "## Конкатенация с токеном отрицания\n",
    "\n",
    "В некоторых ситуациях нам нужно обрабатывать не слова (после стемминга), а пары слов.\n",
    "Например - \"не пожалеете\" (очевиден положительный окрас) стоит считать одним токеном.\n",
    "Т.к. в противном случае - мы получаем 2 токена: [\"не\", \"пожалеете\"], из которых 1 не имеет выраженного окраса, \n",
    "    другой же - имеет отрицательный. Очевидно, стоит обработать такие пары токены.\n",
    "Применённый здесь алгоритм таков:\n",
    "    * разбиваем текст после стемминга на отдельные токены\n",
    "    * для каждой пары из токена и следующего токена:\n",
    "        * если токен - \"не\" - склеиваем его со следующим токеном, добавляем к результирующему списку, пропускаем следующую пару\n",
    "        * иначе - добавляем к результирующему списку\n",
    "    * склеиваем результирующий список\n",
    "Тогда пара токенов \"не\", \"пожалеете\" будет представлена 1 токеном \"не_пожалеете\""
   ]
  },
  {
   "cell_type": "code",
   "execution_count": 30,
   "metadata": {
    "collapsed": true
   },
   "outputs": [],
   "source": [
    "from inverse_token_concatenation import inverse_token_concatenation"
   ]
  },
  {
   "cell_type": "code",
   "execution_count": 31,
   "metadata": {},
   "outputs": [
    {
     "data": {
      "text/plain": [
       "array([ 0.8845893 ,  0.89362136,  0.86758655])"
      ]
     },
     "execution_count": 31,
     "metadata": {},
     "output_type": "execute_result"
    }
   ],
   "source": [
    "cv(\n",
    "    Pipeline([\n",
    "        (\"stem\", stem_transformer()),\n",
    "        (\"invcon\", inverse_token_concatenation()),\n",
    "        (\"vectorizer\", TfidfVectorizer()),\n",
    "        (\"regression\", Ridge()),\n",
    "    ]),\n",
    "    comment_train,\n",
    "    rating_train\n",
    ")"
   ]
  },
  {
   "cell_type": "markdown",
   "metadata": {},
   "source": [
    "Видим существенное улучшение результата\n",
    "\n",
    "# Ограничение выходного значения\n",
    "\n",
    "В нашем случае выходные значения находятся в диапазоне [1;5].\n",
    "Однако в общем случае Ridge-регрессия способна выдать значения вне этого диапазона, если не наложить на неё ограничений. Проверим работу модели, в которой применяется такое ограничение:\n",
    "\n",
    "* X - предсказание Ridge\n",
    "* X[X < 1] = 1 - заменяем 1 все значения, меньшие, чем 1\n",
    "* X[X > 5] = 5 - заменяем 5 все значения, большие, чем 5"
   ]
  },
  {
   "cell_type": "code",
   "execution_count": 32,
   "metadata": {},
   "outputs": [],
   "source": [
    "from misc import TransformRidge\n",
    "from output_range_transformation import output_range_transformation"
   ]
  },
  {
   "cell_type": "code",
   "execution_count": 33,
   "metadata": {},
   "outputs": [
    {
     "data": {
      "text/plain": [
       "array([ 0.85393971,  0.86415039,  0.83434697])"
      ]
     },
     "execution_count": 33,
     "metadata": {},
     "output_type": "execute_result"
    }
   ],
   "source": [
    "cv(\n",
    "    Pipeline([\n",
    "        (\"stem\", stem_transformer()),\n",
    "        (\"invcon\", inverse_token_concatenation()),\n",
    "        (\"vectorizer\", TfidfVectorizer()),\n",
    "        (\"regression\", TransformRidge()),\n",
    "        (\"output\", output_range_transformation(1, 5)),\n",
    "    ]),\n",
    "    comment_train,\n",
    "    rating_train\n",
    ")"
   ]
  },
  {
   "cell_type": "markdown",
   "metadata": {},
   "source": [
    "Видим, что значение ошибки и в самом деле упало."
   ]
  },
  {
   "cell_type": "markdown",
   "metadata": {},
   "source": [
    "# Оценка полярности комментария\n",
    "\n",
    "С помощью polyglot можно оценить полярность текста следующим образом:\n",
    "* токенизовать его\n",
    "* создать пустой список полярностей токенов (1 - положительная, 0 - нейтральная, -1 - отрицательная)\n",
    "* для каждой пары токена и следующего за ним токена:\n",
    "    * если токен=\"не\"\n",
    "        * добавить в список обращённую полярность следующего токена\n",
    "    * иначе\n",
    "        * дабавить в список полярность текущего токена\n",
    "* positive - количество токенов с положительной полярностью\n",
    "* negative - с негативной\n",
    "* vec = (positive, negative) - ненормализованный двумерный вектор полярностей\n",
    "* если длинна vec = 0:\n",
    "    * вернуть (0, 0, 1)\n",
    "* иначе:\n",
    "    * vecNorm = (vec / length(vec)) ^ 2 - нормализуем вектор и возводим элементы в квадрат\n",
    "    * вернуть (vecNorm(0), vecNorm(1), 1 - sum(vecNorm))\n",
    "В итоге компоненты вектора связаны с :\n",
    "- количеством слов с положительным окрасом (должен быть высок у текстов с положительным окрасом)\n",
    "- количеством слов с отрицательным окрасом (должен быть высок у текстов с отрицательным окрасом)\n",
    "- разницей между 1 и остальными компонентами (должен быть высок у текстов без выраженного окраса)"
   ]
  },
  {
   "cell_type": "code",
   "execution_count": 34,
   "metadata": {
    "collapsed": true
   },
   "outputs": [],
   "source": [
    "from polarity_vectorizer import polarity_vectorizer\n",
    "from sklearn.pipeline import FeatureUnion"
   ]
  },
  {
   "cell_type": "code",
   "execution_count": 35,
   "metadata": {},
   "outputs": [
    {
     "data": {
      "text/plain": [
       "array([ 0.85013574,  0.86464798,  0.83594452])"
      ]
     },
     "execution_count": 35,
     "metadata": {},
     "output_type": "execute_result"
    }
   ],
   "source": [
    "cv(\n",
    "    Pipeline([\n",
    "        (\"features\", FeatureUnion([\n",
    "            (\"stem_tfidf\", Pipeline([\n",
    "                (\"stem\", stem_transformer()),\n",
    "                (\"invcon\", inverse_token_concatenation()),\n",
    "                (\"vectorizer\", TfidfVectorizer()),\n",
    "            ])),\n",
    "            (\"polarity\", polarity_vectorizer(\"ru\")),\n",
    "        ])),\n",
    "        (\"regression\", TransformRidge()),\n",
    "        (\"output\", output_range_transformation(1, 5)),\n",
    "    ]),\n",
    "    comment_train,\n",
    "    rating_train\n",
    ")"
   ]
  },
  {
   "cell_type": "markdown",
   "metadata": {},
   "source": [
    "Видим небольшое улучшение результата.\n",
    "\n",
    "# Сохранение готовой модели\n",
    "\n",
    "Построим итоговую модель, обучим её на всем обучающем подмножестве"
   ]
  },
  {
   "cell_type": "code",
   "execution_count": 36,
   "metadata": {
    "collapsed": true
   },
   "outputs": [],
   "source": [
    "model = Pipeline([\n",
    "    (\"features\", FeatureUnion([\n",
    "        (\"stem_tfidf\", Pipeline([\n",
    "            (\"stem\", stem_transformer()),\n",
    "            (\"invcon\", inverse_token_concatenation()),\n",
    "            (\"vectorizer\", TfidfVectorizer()),\n",
    "        ])),\n",
    "        (\"polarity\", polarity_vectorizer(\"ru\")),\n",
    "    ])),\n",
    "    (\"regression\", TransformRidge()),\n",
    "    (\"output\", output_range_transformation(1, 5)),\n",
    "])"
   ]
  },
  {
   "cell_type": "code",
   "execution_count": 37,
   "metadata": {},
   "outputs": [
    {
     "data": {
      "text/plain": [
       "Pipeline(memory=None,\n",
       "     steps=[('features', FeatureUnion(n_jobs=1,\n",
       "       transformer_list=[('stem_tfidf', Pipeline(memory=None,\n",
       "     steps=[('stem', FunctionTransformer(accept_sparse=False,\n",
       "          func=<function _stem at 0x000000CFBAC731E0>, inv_kw_args=None,\n",
       "          inverse_func=None,\n",
       "          kw_args={'stemmer': <...0>,\n",
       "              kw_args={'min': 1, 'max': 5}, pass_y='deprecated',\n",
       "              validate=False))])"
      ]
     },
     "execution_count": 37,
     "metadata": {},
     "output_type": "execute_result"
    }
   ],
   "source": [
    "model.fit(comment_train, rating_train)"
   ]
  },
  {
   "cell_type": "markdown",
   "metadata": {},
   "source": [
    "Посчитаем значение MSE на тестовой выборке"
   ]
  },
  {
   "cell_type": "code",
   "execution_count": 42,
   "metadata": {},
   "outputs": [
    {
     "data": {
      "text/plain": [
       "0.90137795312416091"
      ]
     },
     "execution_count": 42,
     "metadata": {},
     "output_type": "execute_result"
    }
   ],
   "source": [
    "from sklearn.metrics import mean_squared_error\n",
    "\n",
    "mean_squared_error(rating_test, model.predict(comment_test))"
   ]
  },
  {
   "cell_type": "markdown",
   "metadata": {},
   "source": [
    "Сохраним модель"
   ]
  },
  {
   "cell_type": "code",
   "execution_count": 41,
   "metadata": {
    "collapsed": true
   },
   "outputs": [],
   "source": [
    "import pickle\n",
    "\n",
    "with open(\"model.pkl\", \"wb\") as target:\n",
    "    pickle.dump(model, target)"
   ]
  }
 ],
 "metadata": {
  "kernelspec": {
   "display_name": "Python 3",
   "language": "python",
   "name": "python3"
  },
  "language_info": {
   "codemirror_mode": {
    "name": "ipython",
    "version": 3
   },
   "file_extension": ".py",
   "mimetype": "text/x-python",
   "name": "python",
   "nbconvert_exporter": "python",
   "pygments_lexer": "ipython3",
   "version": "3.6.1"
  }
 },
 "nbformat": 4,
 "nbformat_minor": 2
}
